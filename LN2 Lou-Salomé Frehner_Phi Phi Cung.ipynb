{
 "cells": [
  {
   "cell_type": "markdown",
   "id": "f9e9bf68",
   "metadata": {},
   "source": [
    "## 1. Fragestellung(en) und Datenbeschaffung\n",
    "Gruppe: Phi Phi Cung und Lou-Salomé Frehner\n",
    "### 1.1 Titel: \n",
    "- Sterblichkeitsrate von Atemwegsinfektionen pro 100'000 Personen von 1950 bis 2022\n",
    "### 1.2 Fragestellung:\n",
    "- \"Welche 5 Länder hatten von 1950 bis 2022 die grösste Zunahme bzw. Abnahme der Sterblichkeitsrate durch Atemwegsinfektionen?\"\n",
    "### 1.3 Datenquelle(n):\n",
    "https://ourworldindata.org/grapher/respiratory-infection-death-rate-who-mdb\n",
    "\n",
    "\n"
   ]
  },
  {
   "cell_type": "markdown",
   "metadata": {},
   "source": [
    "### 1.4 Daten beschaffen und laden"
   ]
  },
  {
   "cell_type": "code",
   "execution_count": 74,
   "id": "a27050af",
   "metadata": {},
   "outputs": [],
   "source": [
    "# lade deine Bibliotheken -> Pandas, Seaborn, Matplotlib sind die wichtigsten für diese Aufgaben\n",
    "\n",
    "import pandas as pd\n",
    "import seaborn as sns\n",
    "from matplotlib import pyplot as plt"
   ]
  },
  {
   "cell_type": "code",
   "execution_count": 75,
   "id": "47a24830",
   "metadata": {},
   "outputs": [
    {
     "data": {
      "text/html": [
       "<div>\n",
       "<style scoped>\n",
       "    .dataframe tbody tr th:only-of-type {\n",
       "        vertical-align: middle;\n",
       "    }\n",
       "\n",
       "    .dataframe tbody tr th {\n",
       "        vertical-align: top;\n",
       "    }\n",
       "\n",
       "    .dataframe thead th {\n",
       "        text-align: right;\n",
       "    }\n",
       "</style>\n",
       "<table border=\"1\" class=\"dataframe\">\n",
       "  <thead>\n",
       "    <tr style=\"text-align: right;\">\n",
       "      <th></th>\n",
       "      <th>Entity</th>\n",
       "      <th>Code</th>\n",
       "      <th>year</th>\n",
       "      <th>Age-standardized deaths from respiratory infections in both sexes per 100,000 people</th>\n",
       "    </tr>\n",
       "  </thead>\n",
       "  <tbody>\n",
       "    <tr>\n",
       "      <th>0</th>\n",
       "      <td>Albania</td>\n",
       "      <td>ALB</td>\n",
       "      <td>1987</td>\n",
       "      <td>69.32097</td>\n",
       "    </tr>\n",
       "    <tr>\n",
       "      <th>1</th>\n",
       "      <td>Albania</td>\n",
       "      <td>ALB</td>\n",
       "      <td>1988</td>\n",
       "      <td>59.96708</td>\n",
       "    </tr>\n",
       "    <tr>\n",
       "      <th>2</th>\n",
       "      <td>Albania</td>\n",
       "      <td>ALB</td>\n",
       "      <td>1989</td>\n",
       "      <td>75.36185</td>\n",
       "    </tr>\n",
       "    <tr>\n",
       "      <th>3</th>\n",
       "      <td>Albania</td>\n",
       "      <td>ALB</td>\n",
       "      <td>1992</td>\n",
       "      <td>64.09694</td>\n",
       "    </tr>\n",
       "    <tr>\n",
       "      <th>4</th>\n",
       "      <td>Albania</td>\n",
       "      <td>ALB</td>\n",
       "      <td>1993</td>\n",
       "      <td>69.78366</td>\n",
       "    </tr>\n",
       "  </tbody>\n",
       "</table>\n",
       "</div>"
      ],
      "text/plain": [
       "    Entity Code  year  \\\n",
       "0  Albania  ALB  1987   \n",
       "1  Albania  ALB  1988   \n",
       "2  Albania  ALB  1989   \n",
       "3  Albania  ALB  1992   \n",
       "4  Albania  ALB  1993   \n",
       "\n",
       "   Age-standardized deaths from respiratory infections in both sexes per 100,000 people  \n",
       "0                                           69.32097                                     \n",
       "1                                           59.96708                                     \n",
       "2                                           75.36185                                     \n",
       "3                                           64.09694                                     \n",
       "4                                           69.78366                                     "
      ]
     },
     "execution_count": 75,
     "metadata": {},
     "output_type": "execute_result"
    }
   ],
   "source": [
    "# lade hier deine Daten\n",
    "df = pd.read_csv('respiratory-infection-death-rate-who-mdb.csv', skiprows=1, \n",
    "                 names=['Entity','Code','year','Age-standardized deaths from respiratory infections in both sexes per 100,000 people'])\n",
    "df.head()\n"
   ]
  },
  {
   "cell_type": "markdown",
   "id": "25d1e798",
   "metadata": {},
   "source": [
    "## 2. Daten vorbereiten \n",
    "Der Datensatz hat das Long-Format:\n",
    "\n",
    "Jede Zeile repräsentiert eine Beobachtung, bestehend aus den folgenden Spalten:\n",
    "- Länder: Der Name des Landes (z. B. Kanada, Australien).\n",
    "- Code: Der standardisierte Ländercode (z. B. CAN, AUS).\n",
    "- Jahr: Das Jahr der Beobachtung (z. B. 1950, 2022).\n",
    "- Todesfälle durch Atemwegsinfektionen: Die altersstandardisierte Sterblichkeitsrate pro 100.000 Personen.\n",
    "- Im Long-Format sind die Werte für die Todesfallrate in einer Spalte organisiert, während die übrigen Spalten Kategorien oder Indizes darstellen.\n",
    "\n",
    "Die Datentypen im Datensatz sind:\n",
    "\n",
    "Länder: object (String; textbasiert, z. B. \"Kanada\").\n",
    "Code: object (String; textbasiert, z. B. \"CAN\").\n",
    "Jahr: int64 (Ganzzahl; numerisch, z. B. 1950, 2022).\n",
    "Todesfälle: float64 (Dezimalzahl; kontinuierlich, z. B. 69.32)."
   ]
  },
  {
   "cell_type": "code",
   "execution_count": 76,
   "id": "7f4fefb8",
   "metadata": {},
   "outputs": [
    {
     "data": {
      "text/html": [
       "<div>\n",
       "<style scoped>\n",
       "    .dataframe tbody tr th:only-of-type {\n",
       "        vertical-align: middle;\n",
       "    }\n",
       "\n",
       "    .dataframe tbody tr th {\n",
       "        vertical-align: top;\n",
       "    }\n",
       "\n",
       "    .dataframe thead th {\n",
       "        text-align: right;\n",
       "    }\n",
       "</style>\n",
       "<table border=\"1\" class=\"dataframe\">\n",
       "  <thead>\n",
       "    <tr style=\"text-align: right;\">\n",
       "      <th>year</th>\n",
       "      <th>1950</th>\n",
       "      <th>1951</th>\n",
       "      <th>1952</th>\n",
       "      <th>1953</th>\n",
       "      <th>1954</th>\n",
       "      <th>1955</th>\n",
       "      <th>1956</th>\n",
       "      <th>1957</th>\n",
       "      <th>1958</th>\n",
       "      <th>1959</th>\n",
       "      <th>...</th>\n",
       "      <th>2013</th>\n",
       "      <th>2014</th>\n",
       "      <th>2015</th>\n",
       "      <th>2016</th>\n",
       "      <th>2017</th>\n",
       "      <th>2018</th>\n",
       "      <th>2019</th>\n",
       "      <th>2020</th>\n",
       "      <th>2021</th>\n",
       "      <th>2022</th>\n",
       "    </tr>\n",
       "    <tr>\n",
       "      <th>Entity</th>\n",
       "      <th></th>\n",
       "      <th></th>\n",
       "      <th></th>\n",
       "      <th></th>\n",
       "      <th></th>\n",
       "      <th></th>\n",
       "      <th></th>\n",
       "      <th></th>\n",
       "      <th></th>\n",
       "      <th></th>\n",
       "      <th></th>\n",
       "      <th></th>\n",
       "      <th></th>\n",
       "      <th></th>\n",
       "      <th></th>\n",
       "      <th></th>\n",
       "      <th></th>\n",
       "      <th></th>\n",
       "      <th></th>\n",
       "      <th></th>\n",
       "      <th></th>\n",
       "    </tr>\n",
       "  </thead>\n",
       "  <tbody>\n",
       "    <tr>\n",
       "      <th>Albania</th>\n",
       "      <td>NaN</td>\n",
       "      <td>NaN</td>\n",
       "      <td>NaN</td>\n",
       "      <td>NaN</td>\n",
       "      <td>NaN</td>\n",
       "      <td>NaN</td>\n",
       "      <td>NaN</td>\n",
       "      <td>NaN</td>\n",
       "      <td>NaN</td>\n",
       "      <td>NaN</td>\n",
       "      <td>...</td>\n",
       "      <td>NaN</td>\n",
       "      <td>NaN</td>\n",
       "      <td>NaN</td>\n",
       "      <td>NaN</td>\n",
       "      <td>NaN</td>\n",
       "      <td>NaN</td>\n",
       "      <td>NaN</td>\n",
       "      <td>NaN</td>\n",
       "      <td>NaN</td>\n",
       "      <td>NaN</td>\n",
       "    </tr>\n",
       "    <tr>\n",
       "      <th>Antigua and Barbuda</th>\n",
       "      <td>NaN</td>\n",
       "      <td>NaN</td>\n",
       "      <td>NaN</td>\n",
       "      <td>NaN</td>\n",
       "      <td>NaN</td>\n",
       "      <td>NaN</td>\n",
       "      <td>NaN</td>\n",
       "      <td>NaN</td>\n",
       "      <td>NaN</td>\n",
       "      <td>NaN</td>\n",
       "      <td>...</td>\n",
       "      <td>15.206214</td>\n",
       "      <td>19.790750</td>\n",
       "      <td>32.962810</td>\n",
       "      <td>17.233988</td>\n",
       "      <td>12.686172</td>\n",
       "      <td>26.913685</td>\n",
       "      <td>17.549429</td>\n",
       "      <td>25.599234</td>\n",
       "      <td>103.138080</td>\n",
       "      <td>NaN</td>\n",
       "    </tr>\n",
       "    <tr>\n",
       "      <th>Argentina</th>\n",
       "      <td>NaN</td>\n",
       "      <td>NaN</td>\n",
       "      <td>NaN</td>\n",
       "      <td>NaN</td>\n",
       "      <td>NaN</td>\n",
       "      <td>NaN</td>\n",
       "      <td>NaN</td>\n",
       "      <td>NaN</td>\n",
       "      <td>NaN</td>\n",
       "      <td>NaN</td>\n",
       "      <td>...</td>\n",
       "      <td>40.840980</td>\n",
       "      <td>41.425716</td>\n",
       "      <td>46.261000</td>\n",
       "      <td>55.549500</td>\n",
       "      <td>52.927692</td>\n",
       "      <td>49.750935</td>\n",
       "      <td>50.036976</td>\n",
       "      <td>129.054060</td>\n",
       "      <td>196.347100</td>\n",
       "      <td>NaN</td>\n",
       "    </tr>\n",
       "    <tr>\n",
       "      <th>Armenia</th>\n",
       "      <td>NaN</td>\n",
       "      <td>NaN</td>\n",
       "      <td>NaN</td>\n",
       "      <td>NaN</td>\n",
       "      <td>NaN</td>\n",
       "      <td>NaN</td>\n",
       "      <td>NaN</td>\n",
       "      <td>NaN</td>\n",
       "      <td>NaN</td>\n",
       "      <td>NaN</td>\n",
       "      <td>...</td>\n",
       "      <td>14.797947</td>\n",
       "      <td>14.825234</td>\n",
       "      <td>18.150202</td>\n",
       "      <td>21.427942</td>\n",
       "      <td>22.369265</td>\n",
       "      <td>33.270714</td>\n",
       "      <td>32.871216</td>\n",
       "      <td>136.314000</td>\n",
       "      <td>178.072220</td>\n",
       "      <td>59.339447</td>\n",
       "    </tr>\n",
       "    <tr>\n",
       "      <th>Australia</th>\n",
       "      <td>44.541817</td>\n",
       "      <td>46.18928</td>\n",
       "      <td>40.555084</td>\n",
       "      <td>36.833664</td>\n",
       "      <td>40.231956</td>\n",
       "      <td>35.56524</td>\n",
       "      <td>39.746117</td>\n",
       "      <td>42.80438</td>\n",
       "      <td>34.36434</td>\n",
       "      <td>47.42999</td>\n",
       "      <td>...</td>\n",
       "      <td>5.370212</td>\n",
       "      <td>6.066640</td>\n",
       "      <td>6.208516</td>\n",
       "      <td>6.525617</td>\n",
       "      <td>8.127273</td>\n",
       "      <td>5.351823</td>\n",
       "      <td>7.287782</td>\n",
       "      <td>5.021166</td>\n",
       "      <td>5.508817</td>\n",
       "      <td>19.580791</td>\n",
       "    </tr>\n",
       "  </tbody>\n",
       "</table>\n",
       "<p>5 rows × 73 columns</p>\n",
       "</div>"
      ],
      "text/plain": [
       "year                      1950      1951       1952       1953       1954  \\\n",
       "Entity                                                                      \n",
       "Albania                    NaN       NaN        NaN        NaN        NaN   \n",
       "Antigua and Barbuda        NaN       NaN        NaN        NaN        NaN   \n",
       "Argentina                  NaN       NaN        NaN        NaN        NaN   \n",
       "Armenia                    NaN       NaN        NaN        NaN        NaN   \n",
       "Australia            44.541817  46.18928  40.555084  36.833664  40.231956   \n",
       "\n",
       "year                     1955       1956      1957      1958      1959  ...  \\\n",
       "Entity                                                                  ...   \n",
       "Albania                   NaN        NaN       NaN       NaN       NaN  ...   \n",
       "Antigua and Barbuda       NaN        NaN       NaN       NaN       NaN  ...   \n",
       "Argentina                 NaN        NaN       NaN       NaN       NaN  ...   \n",
       "Armenia                   NaN        NaN       NaN       NaN       NaN  ...   \n",
       "Australia            35.56524  39.746117  42.80438  34.36434  47.42999  ...   \n",
       "\n",
       "year                      2013       2014       2015       2016       2017  \\\n",
       "Entity                                                                       \n",
       "Albania                    NaN        NaN        NaN        NaN        NaN   \n",
       "Antigua and Barbuda  15.206214  19.790750  32.962810  17.233988  12.686172   \n",
       "Argentina            40.840980  41.425716  46.261000  55.549500  52.927692   \n",
       "Armenia              14.797947  14.825234  18.150202  21.427942  22.369265   \n",
       "Australia             5.370212   6.066640   6.208516   6.525617   8.127273   \n",
       "\n",
       "year                      2018       2019        2020        2021       2022  \n",
       "Entity                                                                        \n",
       "Albania                    NaN        NaN         NaN         NaN        NaN  \n",
       "Antigua and Barbuda  26.913685  17.549429   25.599234  103.138080        NaN  \n",
       "Argentina            49.750935  50.036976  129.054060  196.347100        NaN  \n",
       "Armenia              33.270714  32.871216  136.314000  178.072220  59.339447  \n",
       "Australia             5.351823   7.287782    5.021166    5.508817  19.580791  \n",
       "\n",
       "[5 rows x 73 columns]"
      ]
     },
     "execution_count": 76,
     "metadata": {},
     "output_type": "execute_result"
    }
   ],
   "source": [
    "df_pivot = df.pivot(index='Entity', columns='year', values='Age-standardized deaths from respiratory infections in both sexes per 100,000 people')\n",
    "df_pivot.head()"
   ]
  },
  {
   "cell_type": "markdown",
   "id": "28195847",
   "metadata": {},
   "source": [
    "## 3. Statistik der Rohdaten (Analyse im Long-Format)\n",
    "über die einzelnen Spalten kann folgendes ausgesagt werden:\n",
    "- Die Spalte *Year* enthält 117 verschiede Länder\n",
    "- Die Spalte *Codes* enthält 117 verschiedene Codes\n",
    "- Es sind Daten zwischen 1950 and 2022 vorhanden\n",
    "- Die Todesfälle durch Atemwegsinfektionen streuen zwischen 1.05 und 377.28 pro 100.000 Personen.\n",
    "- Die Variable \"Sterblichkeitsrate durch Atemwegsinfektionen\" ist kontinuierlich, da sie numerische Werte mit Dezimalstellen enthält. \n",
    "- ⁠ Es gibt insgesamt 4 Spalten in den Daten.\n",
    "- Für jede Spalte liegen keine fehlenden Werte vor (alle Daten sind vollständig).\n",
    "- Das Jahr mit den meisten Datenpunkten ist 2010 (96 Einträge). \n",
    "- ⁠Länder wie Kanada, Niederlande, Japan, Australien und Schweden haben jeweils über 72 Einträge. \n",
    "- ⁠Das Histogramm zeigt, dass die meisten Todesfälle pro 100.000 Personen im Bereich unter 50 liegen, mit einigen Ausreissern über 300.\n",
    "\n",
    "\n"
   ]
  },
  {
   "cell_type": "code",
   "execution_count": 77,
   "id": "6db8081e",
   "metadata": {},
   "outputs": [],
   "source": [
    "df_long = pd.read_csv('respiratory-infection-death-rate-who-mdb.csv')"
   ]
  },
  {
   "cell_type": "code",
   "execution_count": 78,
   "id": "bc01898a",
   "metadata": {},
   "outputs": [
    {
     "data": {
      "text/html": [
       "<div>\n",
       "<style scoped>\n",
       "    .dataframe tbody tr th:only-of-type {\n",
       "        vertical-align: middle;\n",
       "    }\n",
       "\n",
       "    .dataframe tbody tr th {\n",
       "        vertical-align: top;\n",
       "    }\n",
       "\n",
       "    .dataframe thead th {\n",
       "        text-align: right;\n",
       "    }\n",
       "</style>\n",
       "<table border=\"1\" class=\"dataframe\">\n",
       "  <thead>\n",
       "    <tr style=\"text-align: right;\">\n",
       "      <th></th>\n",
       "      <th>Entity</th>\n",
       "      <th>Code</th>\n",
       "      <th>Year</th>\n",
       "      <th>Age-standardized deaths from respiratory infections in both sexes per 100,000 people</th>\n",
       "    </tr>\n",
       "  </thead>\n",
       "  <tbody>\n",
       "    <tr>\n",
       "      <th>0</th>\n",
       "      <td>Albania</td>\n",
       "      <td>ALB</td>\n",
       "      <td>1987</td>\n",
       "      <td>69.320970</td>\n",
       "    </tr>\n",
       "    <tr>\n",
       "      <th>1</th>\n",
       "      <td>Albania</td>\n",
       "      <td>ALB</td>\n",
       "      <td>1988</td>\n",
       "      <td>59.967080</td>\n",
       "    </tr>\n",
       "    <tr>\n",
       "      <th>2</th>\n",
       "      <td>Albania</td>\n",
       "      <td>ALB</td>\n",
       "      <td>1989</td>\n",
       "      <td>75.361850</td>\n",
       "    </tr>\n",
       "    <tr>\n",
       "      <th>3</th>\n",
       "      <td>Albania</td>\n",
       "      <td>ALB</td>\n",
       "      <td>1992</td>\n",
       "      <td>64.096940</td>\n",
       "    </tr>\n",
       "    <tr>\n",
       "      <th>4</th>\n",
       "      <td>Albania</td>\n",
       "      <td>ALB</td>\n",
       "      <td>1993</td>\n",
       "      <td>69.783660</td>\n",
       "    </tr>\n",
       "    <tr>\n",
       "      <th>...</th>\n",
       "      <td>...</td>\n",
       "      <td>...</td>\n",
       "      <td>...</td>\n",
       "      <td>...</td>\n",
       "    </tr>\n",
       "    <tr>\n",
       "      <th>4636</th>\n",
       "      <td>Venezuela</td>\n",
       "      <td>VEN</td>\n",
       "      <td>2012</td>\n",
       "      <td>21.126587</td>\n",
       "    </tr>\n",
       "    <tr>\n",
       "      <th>4637</th>\n",
       "      <td>Venezuela</td>\n",
       "      <td>VEN</td>\n",
       "      <td>2013</td>\n",
       "      <td>23.221132</td>\n",
       "    </tr>\n",
       "    <tr>\n",
       "      <th>4638</th>\n",
       "      <td>Venezuela</td>\n",
       "      <td>VEN</td>\n",
       "      <td>2014</td>\n",
       "      <td>25.174698</td>\n",
       "    </tr>\n",
       "    <tr>\n",
       "      <th>4639</th>\n",
       "      <td>Venezuela</td>\n",
       "      <td>VEN</td>\n",
       "      <td>2015</td>\n",
       "      <td>27.281538</td>\n",
       "    </tr>\n",
       "    <tr>\n",
       "      <th>4640</th>\n",
       "      <td>Venezuela</td>\n",
       "      <td>VEN</td>\n",
       "      <td>2016</td>\n",
       "      <td>32.099160</td>\n",
       "    </tr>\n",
       "  </tbody>\n",
       "</table>\n",
       "<p>4641 rows × 4 columns</p>\n",
       "</div>"
      ],
      "text/plain": [
       "         Entity Code  Year  \\\n",
       "0       Albania  ALB  1987   \n",
       "1       Albania  ALB  1988   \n",
       "2       Albania  ALB  1989   \n",
       "3       Albania  ALB  1992   \n",
       "4       Albania  ALB  1993   \n",
       "...         ...  ...   ...   \n",
       "4636  Venezuela  VEN  2012   \n",
       "4637  Venezuela  VEN  2013   \n",
       "4638  Venezuela  VEN  2014   \n",
       "4639  Venezuela  VEN  2015   \n",
       "4640  Venezuela  VEN  2016   \n",
       "\n",
       "      Age-standardized deaths from respiratory infections in both sexes per 100,000 people  \n",
       "0                                             69.320970                                     \n",
       "1                                             59.967080                                     \n",
       "2                                             75.361850                                     \n",
       "3                                             64.096940                                     \n",
       "4                                             69.783660                                     \n",
       "...                                                 ...                                     \n",
       "4636                                          21.126587                                     \n",
       "4637                                          23.221132                                     \n",
       "4638                                          25.174698                                     \n",
       "4639                                          27.281538                                     \n",
       "4640                                          32.099160                                     \n",
       "\n",
       "[4641 rows x 4 columns]"
      ]
     },
     "execution_count": 78,
     "metadata": {},
     "output_type": "execute_result"
    }
   ],
   "source": [
    "df_long"
   ]
  },
  {
   "cell_type": "markdown",
   "id": "b795db66",
   "metadata": {},
   "source": [
    "### 3.1 Analyse Länder"
   ]
  },
  {
   "cell_type": "code",
   "execution_count": 79,
   "id": "0079657a",
   "metadata": {},
   "outputs": [
    {
     "name": "stdout",
     "output_type": "stream",
     "text": [
      "Anzahl verschiedener Länder:  117\n"
     ]
    }
   ],
   "source": [
    "print('Anzahl verschiedener Länder: ', len(df['Entity'].unique()))"
   ]
  },
  {
   "cell_type": "code",
   "execution_count": 80,
   "id": "dc4e951a",
   "metadata": {},
   "outputs": [
    {
     "data": {
      "text/plain": [
       "Entity\n",
       "Canada                   73\n",
       "Netherlands              73\n",
       "Japan                    72\n",
       "Australia                72\n",
       "Sweden                   72\n",
       "                         ..\n",
       "Sao Tome and Principe     3\n",
       "Lebanon                   3\n",
       "Cape Verde                2\n",
       "Saudi Arabia              2\n",
       "Syria                     1\n",
       "Name: count, Length: 117, dtype: int64"
      ]
     },
     "execution_count": 80,
     "metadata": {},
     "output_type": "execute_result"
    }
   ],
   "source": [
    "# Anzahl Datenpunkte pro Land\n",
    "df['Entity'].value_counts()"
   ]
  },
  {
   "cell_type": "code",
   "execution_count": 81,
   "id": "9a675296",
   "metadata": {},
   "outputs": [
    {
     "data": {
      "text/plain": [
       "<Axes: title={'center': 'Anzahl Datenpunkte pro Land'}, xlabel='Entity', ylabel='Anzahl Datenpunkte'>"
      ]
     },
     "execution_count": 81,
     "metadata": {},
     "output_type": "execute_result"
    },
    {
     "data": {
      "image/png": "[encoded data removed]",
      "text/plain": [
       "<Figure size 640x480 with 1 Axes>"
      ]
     },
     "metadata": {},
     "output_type": "display_data"
    }
   ],
   "source": [
    "df['Entity'].value_counts().plot(kind='bar', \n",
    "                                 xticks=[],     # disable labels on x-axis\n",
    "                                 ylabel='Anzahl Datenpunkte', title='Anzahl Datenpunkte pro Land')"
   ]
  },
  {
   "cell_type": "markdown",
   "id": "2a105679",
   "metadata": {},
   "source": [
    "### 3.2 Analyse Codes"
   ]
  },
  {
   "cell_type": "code",
   "execution_count": 82,
   "id": "01b68ed6",
   "metadata": {},
   "outputs": [
    {
     "name": "stdout",
     "output_type": "stream",
     "text": [
      "Anzahl verschiedener Codes:  117\n"
     ]
    }
   ],
   "source": [
    "print('Anzahl verschiedener Codes: ', len(df['Code'].unique()))"
   ]
  },
  {
   "cell_type": "code",
   "execution_count": 83,
   "id": "aef39d3c",
   "metadata": {},
   "outputs": [
    {
     "data": {
      "text/plain": [
       "Code\n",
       "CAN    73\n",
       "NLD    73\n",
       "JPN    72\n",
       "AUS    72\n",
       "SWE    72\n",
       "       ..\n",
       "STP     3\n",
       "LBN     3\n",
       "CPV     2\n",
       "SAU     2\n",
       "SYR     1\n",
       "Name: count, Length: 117, dtype: int64"
      ]
     },
     "execution_count": 83,
     "metadata": {},
     "output_type": "execute_result"
    }
   ],
   "source": [
    "# Anzahl Datenpunkte pro Land\n",
    "df['Code'].value_counts()"
   ]
  },
  {
   "cell_type": "code",
   "execution_count": 84,
   "id": "72bcb111",
   "metadata": {},
   "outputs": [
    {
     "data": {
      "image/png": "[encoded data removed]",
      "text/plain": [
       "<Figure size 640x480 with 1 Axes>"
      ]
     },
     "metadata": {},
     "output_type": "display_data"
    }
   ],
   "source": [
    "df['Code'].value_counts().plot(kind='bar',xticks=[], ylabel='Anzahl Datenpunkte', title='Anzahl Datenpunkte pro Code');"
   ]
  },
  {
   "cell_type": "markdown",
   "id": "73ef07da",
   "metadata": {},
   "source": [
    "### 3.3 Analyse Jahr"
   ]
  },
  {
   "cell_type": "code",
   "execution_count": 85,
   "id": "033ed9b9",
   "metadata": {},
   "outputs": [
    {
     "name": "stdout",
     "output_type": "stream",
     "text": [
      "Anzahl verschiedener Jahre:  73\n"
     ]
    }
   ],
   "source": [
    "print('Anzahl verschiedener Jahre: ', len(df['year'].unique()))"
   ]
  },
  {
   "cell_type": "code",
   "execution_count": 86,
   "id": "727a3b6c",
   "metadata": {},
   "outputs": [
    {
     "data": {
      "text/plain": [
       "year\n",
       "1950     9\n",
       "1951    17\n",
       "1952    18\n",
       "1953    19\n",
       "1954    20\n",
       "        ..\n",
       "2018    82\n",
       "2019    80\n",
       "2020    65\n",
       "2021    51\n",
       "2022    15\n",
       "Name: count, Length: 73, dtype: int64"
      ]
     },
     "execution_count": 86,
     "metadata": {},
     "output_type": "execute_result"
    }
   ],
   "source": [
    "# Anzahl Datenpunkte pro Jahr\n",
    "df['year'].value_counts().sort_index()"
   ]
  },
  {
   "cell_type": "code",
   "execution_count": 87,
   "id": "e049a117",
   "metadata": {},
   "outputs": [
    {
     "data": {
      "text/plain": [
       "<matplotlib.legend.Legend at 0x198f3dd5cd0>"
      ]
     },
     "execution_count": 87,
     "metadata": {},
     "output_type": "execute_result"
    },
    {
     "data": {
      "image/png": "[encoded data removed]",
      "text/plain": [
       "<Figure size 640x480 with 1 Axes>"
      ]
     },
     "metadata": {},
     "output_type": "display_data"
    }
   ],
   "source": [
    "# Jahre mit maximaler Anzahl Datenpunkte (257)\n",
    "g = df['year'].value_counts().sort_index().plot(ylabel='Anzahl Datenpunkte', title='Anzahl Datenpunkte pro Jahr');\n",
    "g.axvline(x=1950, color='red',label='1950') # rote Linie bei 1950 - ab hier sind alle Jahre enthalten\n",
    "g.legend()  # Legende anzeigen"
   ]
  },
  {
   "cell_type": "markdown",
   "id": "64c367f8",
   "metadata": {},
   "source": [
    "### 3.4 Analyse"
   ]
  },
  {
   "cell_type": "code",
   "execution_count": 88,
   "id": "16d8c677",
   "metadata": {},
   "outputs": [
    {
     "data": {
      "text/html": [
       "<div>\n",
       "<style scoped>\n",
       "    .dataframe tbody tr th:only-of-type {\n",
       "        vertical-align: middle;\n",
       "    }\n",
       "\n",
       "    .dataframe tbody tr th {\n",
       "        vertical-align: top;\n",
       "    }\n",
       "\n",
       "    .dataframe thead th {\n",
       "        text-align: right;\n",
       "    }\n",
       "</style>\n",
       "<table border=\"1\" class=\"dataframe\">\n",
       "  <thead>\n",
       "    <tr style=\"text-align: right;\">\n",
       "      <th></th>\n",
       "      <th>year</th>\n",
       "      <th>Age-standardized deaths from respiratory infections in both sexes per 100,000 people</th>\n",
       "    </tr>\n",
       "  </thead>\n",
       "  <tbody>\n",
       "    <tr>\n",
       "      <th>count</th>\n",
       "      <td>4641.000000</td>\n",
       "      <td>4641.000000</td>\n",
       "    </tr>\n",
       "    <tr>\n",
       "      <th>mean</th>\n",
       "      <td>1992.667313</td>\n",
       "      <td>34.196449</td>\n",
       "    </tr>\n",
       "    <tr>\n",
       "      <th>std</th>\n",
       "      <td>18.426826</td>\n",
       "      <td>32.514145</td>\n",
       "    </tr>\n",
       "    <tr>\n",
       "      <th>min</th>\n",
       "      <td>1950.000000</td>\n",
       "      <td>1.054690</td>\n",
       "    </tr>\n",
       "    <tr>\n",
       "      <th>25%</th>\n",
       "      <td>1979.000000</td>\n",
       "      <td>14.062974</td>\n",
       "    </tr>\n",
       "    <tr>\n",
       "      <th>50%</th>\n",
       "      <td>1995.000000</td>\n",
       "      <td>24.384080</td>\n",
       "    </tr>\n",
       "    <tr>\n",
       "      <th>75%</th>\n",
       "      <td>2008.000000</td>\n",
       "      <td>43.247025</td>\n",
       "    </tr>\n",
       "    <tr>\n",
       "      <th>max</th>\n",
       "      <td>2022.000000</td>\n",
       "      <td>377.275300</td>\n",
       "    </tr>\n",
       "  </tbody>\n",
       "</table>\n",
       "</div>"
      ],
      "text/plain": [
       "              year  \\\n",
       "count  4641.000000   \n",
       "mean   1992.667313   \n",
       "std      18.426826   \n",
       "min    1950.000000   \n",
       "25%    1979.000000   \n",
       "50%    1995.000000   \n",
       "75%    2008.000000   \n",
       "max    2022.000000   \n",
       "\n",
       "       Age-standardized deaths from respiratory infections in both sexes per 100,000 people  \n",
       "count                                        4641.000000                                     \n",
       "mean                                           34.196449                                     \n",
       "std                                            32.514145                                     \n",
       "min                                             1.054690                                     \n",
       "25%                                            14.062974                                     \n",
       "50%                                            24.384080                                     \n",
       "75%                                            43.247025                                     \n",
       "max                                           377.275300                                     "
      ]
     },
     "execution_count": 88,
     "metadata": {},
     "output_type": "execute_result"
    }
   ],
   "source": [
    "df.describe()"
   ]
  },
  {
   "cell_type": "code",
   "execution_count": 89,
   "id": "8f668545",
   "metadata": {},
   "outputs": [
    {
     "data": {
      "text/plain": [
       "<matplotlib.legend.Legend at 0x198f3da7140>"
      ]
     },
     "execution_count": 89,
     "metadata": {},
     "output_type": "execute_result"
    },
    {
     "data": {
      "image/png": "[encoded data removed]",
      "text/plain": [
       "<Figure size 640x480 with 1 Axes>"
      ]
     },
     "metadata": {},
     "output_type": "display_data"
    }
   ],
   "source": [
    "g = df['Age-standardized deaths from respiratory infections in both sexes per 100,000 people'].plot(kind='hist', bins=20, title='Histogramm der Sterblichkeitsrate von Atemwegsinfektionen', \n",
    "                           xlabel='Sterblichkeitsrate', ylabel='Anzahl Datenpunkte')\n",
    "mean = df['Age-standardized deaths from respiratory infections in both sexes per 100,000 people'].mean()\n",
    "g.axvline(x=df['Age-standardized deaths from respiratory infections in both sexes per 100,000 people'].mean(), color='red',label=f'Mittelwert = {mean:.2f}')  # rote Linie bei Mittelwert\n",
    "\n",
    "median = df['Age-standardized deaths from respiratory infections in both sexes per 100,000 people'].median()\n",
    "g.axvline(x=df['Age-standardized deaths from respiratory infections in both sexes per 100,000 people'].median(), color='orange',label=  f'Median = {median:.2f}')  # orange Linie bei Median\n",
    "\n",
    "g.legend()\n"
   ]
  },
  {
   "cell_type": "markdown",
   "id": "bbdf3294",
   "metadata": {},
   "source": [
    "## 4. Analyse \n",
    "\n",
    "### Vorgehen\n",
    "- Spezifische Untersuchung der Fragestellung (Berechnungen)\n",
    "- Visualisieren der Resultate: Verwendet Achsenbeschriftung und überlegt euch, welche Art von Darstellung sinnvoll ist (Kuchen-, Säulen, Liniendiagramm; 2 y-Achsen?)\n",
    "- Beschreiben der Beobachtungen\n",
    "- Interpretation der Resultate (Hypothesen zu den Resultaten)\n",
    "- Untermauern der Interpretation mittels Hinweise zur Literatur (Mögliche Zusammenhänge aufzeigen).\n",
    "\n"
   ]
  },
  {
   "cell_type": "code",
   "execution_count": 90,
   "metadata": {},
   "outputs": [],
   "source": [
    "df_sorted = df_long.sort_values(by=['Entity', 'Year'])"
   ]
  },
  {
   "cell_type": "code",
   "execution_count": 91,
   "id": "11df1fc3",
   "metadata": {},
   "outputs": [
    {
     "data": {
      "text/plain": [
       "Entity\n",
       "Guatemala         -218.113180\n",
       "Chile             -152.483870\n",
       "Romania           -124.508445\n",
       "Spain             -119.386140\n",
       "Tajikistan        -101.272182\n",
       "                      ...    \n",
       "Georgia            165.191734\n",
       "North Macedonia    173.089298\n",
       "Argentina          174.190444\n",
       "Peru               237.969930\n",
       "Paraguay           275.489190\n",
       "Name: change, Length: 117, dtype: float64"
      ]
     },
     "execution_count": 91,
     "metadata": {},
     "output_type": "execute_result"
    }
   ],
   "source": [
    "diffs = diffs.sort_values().dropna()  # sortieren nach Differenz und NaN-Werte entfernen\n",
    "diffs"
   ]
  },
  {
   "cell_type": "code",
   "execution_count": 92,
   "id": "c03369ee",
   "metadata": {},
   "outputs": [],
   "source": [
    "sterblichkeit_veraenderung = df_sorted.groupby('Entity').agg(\n",
    "    start_rate=('Age-standardized deaths from respiratory infections in both sexes per 100,000 people', lambda x: x.iloc[0]),  # Wert aus dem ersten Jahr (1950)\n",
    "    end_rate=('Age-standardized deaths from respiratory infections in both sexes per 100,000 people', lambda x: x.iloc[-1])    # Wert aus dem letzten Jahr (2022)\n",
    ")"
   ]
  },
  {
   "cell_type": "code",
   "execution_count": 93,
   "id": "cb7361db",
   "metadata": {},
   "outputs": [],
   "source": [
    "sterblichkeit_veraenderung['change'] = sterblichkeit_veraenderung['end_rate'] - sterblichkeit_veraenderung['start_rate']"
   ]
  },
  {
   "cell_type": "code",
   "execution_count": 94,
   "id": "2bb3f3b7",
   "metadata": {},
   "outputs": [
    {
     "name": "stdout",
     "output_type": "stream",
     "text": [
      "Top 5 Länder mit der größten Zunahme der Sterblichkeitsrate:\n",
      "                 start_rate   end_rate      change\n",
      "Entity                                            \n",
      "Paraguay          25.523260  301.01245  275.489190\n",
      "Peru              62.403300  300.37323  237.969930\n",
      "Argentina         22.156656  196.34710  174.190444\n",
      "North Macedonia   13.490522  186.57982  173.089298\n",
      "Georgia           45.948936  211.14067  165.191734\n"
     ]
    }
   ],
   "source": [
    "top5_zunahme = sterblichkeit_veraenderung.nlargest(5, 'change')\n",
    "print(\"Top 5 Länder mit der größten Zunahme der Sterblichkeitsrate:\")\n",
    "print(top5_zunahme)"
   ]
  },
  {
   "cell_type": "code",
   "execution_count": 95,
   "id": "09e48411",
   "metadata": {},
   "outputs": [
    {
     "name": "stdout",
     "output_type": "stream",
     "text": [
      "\n",
      "Top 5 Länder mit der größten Abnahme der Sterblichkeitsrate:\n",
      "            start_rate    end_rate      change\n",
      "Entity                                        \n",
      "Guatemala    377.27530  159.162120 -218.113180\n",
      "Chile        238.73232   86.248450 -152.483870\n",
      "Romania      150.89606   26.387615 -124.508445\n",
      "Spain        152.82417   33.438030 -119.386140\n",
      "Tajikistan   110.45069    9.178508 -101.272182\n"
     ]
    }
   ],
   "source": [
    "top5_abnahme = sterblichkeit_veraenderung.nsmallest(5, 'change')\n",
    "print(\"\\nTop 5 Länder mit der größten Abnahme der Sterblichkeitsrate:\")\n",
    "print(top5_abnahme)"
   ]
  },
  {
   "cell_type": "code",
   "execution_count": 96,
   "id": "ef799417",
   "metadata": {},
   "outputs": [
    {
     "data": {
      "image/png": "[encoded data removed]",
      "text/plain": [
       "<Figure size 1000x600 with 1 Axes>"
      ]
     },
     "metadata": {},
     "output_type": "display_data"
    }
   ],
   "source": [
    "import matplotlib.pyplot as plt\n",
    "\n",
    "# Daten kombinieren: Top 5 Zunahme und Abnahme\n",
    "top5_combined = pd.concat([top5_zunahme, top5_abnahme])\n",
    "\n",
    "# Plot erstellen\n",
    "plt.figure(figsize=(10, 6))  # Größe des Diagramms festlegen\n",
    "\n",
    "# Balkendiagramm erstellen\n",
    "top5_combined['change'].plot(kind='barh', color=['green' if x > 0 else 'red' for x in top5_combined['change']])\n",
    "\n",
    "# Diagramm beschriften\n",
    "plt.title(\"Top 5 Länder mit der grössten Abnahme und Zunahme der Sterblichkeitsrate (1950-2022)\")\n",
    "plt.xlabel(\"Veränderung der Sterblichkeitsrate\")\n",
    "plt.ylabel(\"Länder\")\n",
    "\n",
    "# Länder als Beschriftung setzen\n",
    "plt.yticks(range(len(top5_combined)), top5_combined.index)\n",
    "\n",
    "# Layout optimieren und anzeigen\n",
    "plt.tight_layout()\n",
    "plt.show()"
   ]
  }
 ],
 "metadata": {
  "kernelspec": {
   "display_name": "base",
   "language": "python",
   "name": "python3"
  },
  "language_info": {
   "codemirror_mode": {
    "name": "ipython",
    "version": 3
   },
   "file_extension": ".py",
   "mimetype": "text/x-python",
   "name": "python",
   "nbconvert_exporter": "python",
   "pygments_lexer": "ipython3",
   "version": "3.12.4"
  }
 },
 "nbformat": 4,
 "nbformat_minor": 5
}
